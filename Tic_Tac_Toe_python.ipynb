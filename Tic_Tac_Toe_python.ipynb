{
 "cells": [
  {
   "cell_type": "markdown",
   "metadata": {},
   "source": [
    "# Tic Tac Toe Game Project\n"
   ]
  },
  {
   "cell_type": "code",
   "execution_count": 22,
   "metadata": {},
   "outputs": [],
   "source": [
    "from IPython.display import clear_output\n",
    "\n",
    "def display_board(board):\n",
    "    clear_output()\n",
    "    print('Sample positions of the board with indices 1-9')\n",
    "    print(\" \"+'7'+\" \"+\"|\"+\" \"+'8'+\" \"+\"|\"+\" \"+'9')\n",
    "    print(\"-----------\")\n",
    "    print(\" \"+'4'+\" \"+\"|\"+\" \"+'5'+\" \"+\"|\"+\" \"+'6')\n",
    "    print(\"-----------\")\n",
    "    print(\" \"+'1'+\" \"+\"|\"+\" \"+'2'+\" \"+\"|\"+\" \"+'3')\n",
    "    print(\"                                     \")\n",
    "    print(\"                                     \")\n",
    "    print(\"                                     \")\n",
    "    print(\"your Game Starts From Below:\")\n",
    "    print(\"                                     \")\n",
    "    print(\"                                     \")\n",
    "    \n",
    "    print(\" \"+board[7]+\" \"+\"|\"+\" \"+board[8]+\" \"+\"|\"+\" \"+board[9])\n",
    "    print(\"-----------\")\n",
    "    print(\" \"+board[4]+\" \"+\"|\"+\" \"+board[5]+\" \"+\"|\"+\" \"+board[6])\n",
    "    print(\"-----------\")\n",
    "    print(\" \"+board[1]+\" \"+\"|\"+\" \"+board[2]+\" \"+\"|\"+\" \"+board[3])\n",
    "    pass"
   ]
  },
  {
   "cell_type": "code",
   "execution_count": 23,
   "metadata": {},
   "outputs": [],
   "source": [
    "def player_input():\n",
    "    marker=''\n",
    "    while not (marker=='X' or marker=='O'):\n",
    "        marker=input(\"Player-1 Please Enter the required marker: X/O : \").upper()\n",
    "        \n",
    "    if marker=='X':\n",
    "        return('X','O')\n",
    "    else:\n",
    "        return('O','X')\n",
    "    pass"
   ]
  },
  {
   "cell_type": "code",
   "execution_count": 24,
   "metadata": {},
   "outputs": [],
   "source": [
    "def place_marker(board, marker, position):\n",
    "    board[position]=marker\n",
    "    pass"
   ]
  },
  {
   "cell_type": "code",
   "execution_count": 25,
   "metadata": {},
   "outputs": [],
   "source": [
    "def win_check(board, mark):\n",
    "    if  (board[1]==mark and board[2]==mark and board[3]==mark) or (board[4]==mark and board[5]==mark and board[6]==mark) or(board[7]==mark and board[8]==mark and board[9]==mark) or(board[1]==mark and board[4]==mark and board[7]==mark) or (board[2]==mark and board[5]==mark and board[8]==mark) or (board[3]==mark and board[6]==mark and board[9]==mark) or(board[1]==mark and board[5]==mark and board[9]==mark) or(board[3]==mark and board[5]==mark and board[7]==mark):\n",
    "        return True\n",
    "    else:\n",
    "        return False\n",
    "    pass"
   ]
  },
  {
   "cell_type": "code",
   "execution_count": 26,
   "metadata": {},
   "outputs": [],
   "source": [
    "import random\n",
    "\n",
    "def choose_first():\n",
    "    if random.randint(0,1)==0:\n",
    "        return \"Player 1 plays\"\n",
    "    else:\n",
    "        return \"Player 2 plays\"\n",
    "    pass"
   ]
  },
  {
   "cell_type": "code",
   "execution_count": 27,
   "metadata": {},
   "outputs": [],
   "source": [
    "def space_check(board, position):\n",
    "    if board[position]==' ':\n",
    "        return True\n",
    "    else:\n",
    "        return False\n",
    "    pass"
   ]
  },
  {
   "cell_type": "code",
   "execution_count": 28,
   "metadata": {},
   "outputs": [],
   "source": [
    "def full_board_check(board):\n",
    "    for i in range(1,10):\n",
    "        if space_check(board, i):\n",
    "            return False\n",
    "    return True"
   ]
  },
  {
   "cell_type": "code",
   "execution_count": 29,
   "metadata": {},
   "outputs": [],
   "source": [
    "def player_choice(board):\n",
    "    next_pos=0\n",
    "    \n",
    "    while next_pos not in [1,2,3,4,5,6,7,8,9]:\n",
    "        next_pos=int(input(\"Please Enter next position : \"))\n",
    "    if space_check(board,next_pos):\n",
    "        return next_pos\n",
    "    pass"
   ]
  },
  {
   "cell_type": "code",
   "execution_count": 30,
   "metadata": {},
   "outputs": [],
   "source": [
    "def replay():\n",
    "    dec=\"\"\n",
    "    while not (dec=='Y' or dec=='N'):\n",
    "        dec=input(\"Do you want to play again? (Y/N)\").upper()\n",
    "    if dec=='Y':\n",
    "        return True\n",
    "    else:\n",
    "        return False\n",
    "    pass"
   ]
  },
  {
   "cell_type": "code",
   "execution_count": null,
   "metadata": {},
   "outputs": [
    {
     "name": "stdout",
     "output_type": "stream",
     "text": [
      "Sample positions of the board with indices 1-9\n",
      " 7 | 8 | 9\n",
      "-----------\n",
      " 4 | 5 | 6\n",
      "-----------\n",
      " 1 | 2 | 3\n",
      "                                     \n",
      "                                     \n",
      "                                     \n",
      "your Game Starts From Below:\n",
      "                                     \n",
      "                                     \n",
      " O |   |  \n",
      "-----------\n",
      " X | O | X\n",
      "-----------\n",
      " O | X | O\n",
      "Player 2 has won!\n"
     ]
    }
   ],
   "source": [
    "print('Welcome to Tic Tac Toe!')\n",
    "\n",
    "while True:\n",
    "    nBoard = [' ']*10\n",
    "    player1,player2 = player_input()\n",
    "    turn = choose_first()\n",
    "    print(turn)\n",
    "    ready = input(\"Are you ready to play? Yes or No?\")\n",
    "    if ready.lower().startswith('y'):\n",
    "        game_on = True\n",
    "    else:\n",
    "        game_on = False\n",
    "\n",
    "    while game_on:\n",
    "        if turn=='Player 1 plays':\n",
    "            #Player 1 Turn\n",
    "            display_board(nBoard)\n",
    "            position = player_choice(nBoard)\n",
    "            place_marker(nBoard, player1, position)\n",
    "            if win_check(nBoard, player1):\n",
    "                display_board(nBoard)\n",
    "                print('Congratulations! You have won the game!')\n",
    "                game_on = False\n",
    "            else:\n",
    "                if full_board_check(nBoard):\n",
    "                    display_board(nBoard)\n",
    "                    print('The game is a draw!')\n",
    "                    break\n",
    "                else:\n",
    "                    turn = 'Player 2 plays'\n",
    "        \n",
    "        \n",
    "        else:\n",
    "            # Player2's turn.\n",
    "            display_board(nBoard)\n",
    "            position = player_choice(nBoard)\n",
    "            place_marker(nBoard, player2, position)\n",
    "\n",
    "            if win_check(nBoard, player2):\n",
    "                display_board(nBoard)\n",
    "                print('Player 2 has won!')\n",
    "                game_on = False\n",
    "            else:\n",
    "                if full_board_check(nBoard):\n",
    "                    display_board(nBoard)\n",
    "                    print('The game is a draw!')\n",
    "                    break\n",
    "                else:\n",
    "                    turn = 'Player 1 plays'\n",
    "    \n",
    "    if not replay():\n",
    "        break"
   ]
  },
  {
   "cell_type": "code",
   "execution_count": null,
   "metadata": {},
   "outputs": [],
   "source": []
  }
 ],
 "metadata": {
  "kernelspec": {
   "display_name": "Python 3",
   "language": "python",
   "name": "python3"
  },
  "language_info": {
   "codemirror_mode": {
    "name": "ipython",
    "version": 3
   },
   "file_extension": ".py",
   "mimetype": "text/x-python",
   "name": "python",
   "nbconvert_exporter": "python",
   "pygments_lexer": "ipython3",
   "version": "3.7.1"
  }
 },
 "nbformat": 4,
 "nbformat_minor": 1
}
